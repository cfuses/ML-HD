{
 "cells": [
  {
   "cell_type": "markdown",
   "metadata": {},
   "source": [
    "## Extracting SNPs contributing to a model"
   ]
  },
  {
   "cell_type": "code",
   "execution_count": 1,
   "metadata": {},
   "outputs": [],
   "source": [
    "import os\n",
    "import pickle\n",
    "import pandas as pd\n",
    "import xgboost as xgb\n",
    "import matplotlib.pyplot as plt"
   ]
  },
  {
   "cell_type": "code",
   "execution_count": 2,
   "metadata": {},
   "outputs": [],
   "source": [
    "os.chdir('/media/HDD_4TB_1/jordi/cfuses_gnn_enrollhd_2024/')"
   ]
  },
  {
   "cell_type": "code",
   "execution_count": 3,
   "metadata": {},
   "outputs": [],
   "source": [
    "# Data directory\n",
    "data_dir = \"data/features/\"\n",
    "\n",
    "# Path to regressors\n",
    "reg_dir = \"data/ml_results/regressors/\"\n",
    "\n",
    "# Path to output directory\n",
    "out_dir = \"data/ml_results/regressors_info/\""
   ]
  },
  {
   "cell_type": "code",
   "execution_count": 4,
   "metadata": {},
   "outputs": [],
   "source": [
    "# Extract feature matrix header\n",
    "with open(data_dir + \"subsetting/header_feature_matrix_m3_filt_0.01_nodups.txt\", \"r\") as file:\n",
    "    header = file.readline().strip().split(\"\\t\")\n",
    "        \n",
    "feature_names = header[1:]\n",
    "\n",
    "# Read SNP lookup table\n",
    "snp_lookuptab = pd.read_csv(\"data/SNPs/snps_gene_GO_m3.txt\", sep=\"\\t\")"
   ]
  },
  {
   "cell_type": "markdown",
   "metadata": {},
   "source": [
    "## For least squares methods"
   ]
  },
  {
   "cell_type": "code",
   "execution_count": 28,
   "metadata": {},
   "outputs": [],
   "source": [
    "# Name of pickled model file\n",
    "regressor_file = 'elastic_net_regressor_bsc.pkl' # Lasso\n",
    "\n",
    "# Extract model name string\n",
    "regressor_name = regressor_file.split(sep = \".\")[0]"
   ]
  },
  {
   "cell_type": "code",
   "execution_count": 29,
   "metadata": {},
   "outputs": [],
   "source": [
    "# Load the pickled model\n",
    "with open(reg_dir + regressor_file, 'rb') as f:\n",
    "    regressor = pickle.load(f)"
   ]
  },
  {
   "cell_type": "code",
   "execution_count": 30,
   "metadata": {},
   "outputs": [
    {
     "data": {
      "text/plain": [
       "1164"
      ]
     },
     "execution_count": 30,
     "metadata": {},
     "output_type": "execute_result"
    }
   ],
   "source": [
    "# Get how many coefficients different from 0\n",
    "sum(1 for coef in regressor.coef_ if coef != 0)"
   ]
  },
  {
   "cell_type": "code",
   "execution_count": 31,
   "metadata": {},
   "outputs": [],
   "source": [
    "# Sort coefficients in descending order by their absolute value\n",
    "non_zero_indices_values = [(index, coef, abs(coef)) for index, coef in enumerate(regressor.coef_) if coef != 0]\n",
    "sorted_indices_values = sorted(non_zero_indices_values, key=lambda x: x[2], reverse=True)"
   ]
  },
  {
   "cell_type": "markdown",
   "metadata": {},
   "source": [
    "Get what snps correspond to each index"
   ]
  },
  {
   "cell_type": "code",
   "execution_count": 32,
   "metadata": {},
   "outputs": [],
   "source": [
    "# Keep only the feature corresponding to the index and signed \n",
    "# value of the sorted coefficients\n",
    "model_coefs = []\n",
    "\n",
    "for index, coef, _ in sorted_indices_values:\n",
    "    model_coefs.append([feature_names[index], coef])"
   ]
  },
  {
   "cell_type": "code",
   "execution_count": 33,
   "metadata": {},
   "outputs": [
    {
     "name": "stdout",
     "output_type": "stream",
     "text": [
      "CAG coefficient is: -3.2781513\n"
     ]
    }
   ],
   "source": [
    "# If most important feature is CAG (will most \n",
    "# certainly be) print its coefficient\n",
    "\n",
    "if model_coefs[0][0] == 'CAG':\n",
    "    print('CAG coefficient is:', model_coefs[0][1])"
   ]
  },
  {
   "cell_type": "code",
   "execution_count": 34,
   "metadata": {},
   "outputs": [
    {
     "name": "stderr",
     "output_type": "stream",
     "text": [
      "/tmp/ipykernel_425762/1903723015.py:11: FutureWarning: The behavior of DataFrame concatenation with empty or all-NA entries is deprecated. In a future version, this will no longer exclude empty or all-NA columns when determining the result dtypes. To retain the old behavior, exclude the relevant entries before the concat operation.\n",
      "  model_snps = model_snps._append(row, ignore_index=True)\n"
     ]
    }
   ],
   "source": [
    "# Assemble presenting table\n",
    "model_snps = pd.DataFrame(columns=['SNP','Coefficient','Gene','GO'])\n",
    "\n",
    "for snp, coef in model_coefs[1:]:\n",
    "    # Find snp in lookup table\n",
    "    match = snp_lookuptab[snp_lookuptab[\"SNP\"] == snp]\n",
    "    # Retrieve corresponding gene and GO term\n",
    "    gene, GO = match['Gene'].values[0], match['GO_term'].values[0]\n",
    "    # Create new row in pd df\n",
    "    row = {'SNP':snp, 'Coefficient':coef, 'Gene':gene, 'GO':GO}\n",
    "    model_snps = model_snps._append(row, ignore_index=True)"
   ]
  },
  {
   "cell_type": "code",
   "execution_count": 35,
   "metadata": {},
   "outputs": [
    {
     "data": {
      "text/html": [
       "<div>\n",
       "<style scoped>\n",
       "    .dataframe tbody tr th:only-of-type {\n",
       "        vertical-align: middle;\n",
       "    }\n",
       "\n",
       "    .dataframe tbody tr th {\n",
       "        vertical-align: top;\n",
       "    }\n",
       "\n",
       "    .dataframe thead th {\n",
       "        text-align: right;\n",
       "    }\n",
       "</style>\n",
       "<table border=\"1\" class=\"dataframe\">\n",
       "  <thead>\n",
       "    <tr style=\"text-align: right;\">\n",
       "      <th></th>\n",
       "      <th>SNP</th>\n",
       "      <th>Coefficient</th>\n",
       "      <th>Gene</th>\n",
       "      <th>GO</th>\n",
       "    </tr>\n",
       "  </thead>\n",
       "  <tbody>\n",
       "    <tr>\n",
       "      <th>0</th>\n",
       "      <td>rs11982878</td>\n",
       "      <td>3.365854e-02</td>\n",
       "      <td>PRKAG2</td>\n",
       "      <td>GO:0006112</td>\n",
       "    </tr>\n",
       "    <tr>\n",
       "      <th>1</th>\n",
       "      <td>rs12914843</td>\n",
       "      <td>3.142683e-02</td>\n",
       "      <td>FAN1</td>\n",
       "      <td>extra_genes</td>\n",
       "    </tr>\n",
       "    <tr>\n",
       "      <th>2</th>\n",
       "      <td>rs6585194</td>\n",
       "      <td>-2.999602e-02</td>\n",
       "      <td>TCF7L2</td>\n",
       "      <td>GO:0140110</td>\n",
       "    </tr>\n",
       "    <tr>\n",
       "      <th>3</th>\n",
       "      <td>rs12884411</td>\n",
       "      <td>-2.911162e-02</td>\n",
       "      <td>ESRRB</td>\n",
       "      <td>GO:0140110</td>\n",
       "    </tr>\n",
       "    <tr>\n",
       "      <th>4</th>\n",
       "      <td>rs45562534</td>\n",
       "      <td>2.601217e-02</td>\n",
       "      <td>MLH1</td>\n",
       "      <td>GO:0006298</td>\n",
       "    </tr>\n",
       "    <tr>\n",
       "      <th>...</th>\n",
       "      <td>...</td>\n",
       "      <td>...</td>\n",
       "      <td>...</td>\n",
       "      <td>...</td>\n",
       "    </tr>\n",
       "    <tr>\n",
       "      <th>1158</th>\n",
       "      <td>rs11594238</td>\n",
       "      <td>7.885882e-07</td>\n",
       "      <td>FOXP1</td>\n",
       "      <td>GO:0140110</td>\n",
       "    </tr>\n",
       "    <tr>\n",
       "      <th>1159</th>\n",
       "      <td>rs2039220</td>\n",
       "      <td>-4.592979e-07</td>\n",
       "      <td>PAX5</td>\n",
       "      <td>GO:0140110</td>\n",
       "    </tr>\n",
       "    <tr>\n",
       "      <th>1160</th>\n",
       "      <td>rs7073231</td>\n",
       "      <td>3.218443e-07</td>\n",
       "      <td>SIRT1</td>\n",
       "      <td>GO:0043161</td>\n",
       "    </tr>\n",
       "    <tr>\n",
       "      <th>1161</th>\n",
       "      <td>rs57484645</td>\n",
       "      <td>2.383647e-07</td>\n",
       "      <td>GYS2</td>\n",
       "      <td>GO:0006112</td>\n",
       "    </tr>\n",
       "    <tr>\n",
       "      <th>1162</th>\n",
       "      <td>rs8192697</td>\n",
       "      <td>5.919123e-08</td>\n",
       "      <td>GYS2</td>\n",
       "      <td>GO:0006112</td>\n",
       "    </tr>\n",
       "  </tbody>\n",
       "</table>\n",
       "<p>1163 rows × 4 columns</p>\n",
       "</div>"
      ],
      "text/plain": [
       "             SNP   Coefficient    Gene           GO\n",
       "0     rs11982878  3.365854e-02  PRKAG2   GO:0006112\n",
       "1     rs12914843  3.142683e-02    FAN1  extra_genes\n",
       "2      rs6585194 -2.999602e-02  TCF7L2   GO:0140110\n",
       "3     rs12884411 -2.911162e-02   ESRRB   GO:0140110\n",
       "4     rs45562534  2.601217e-02    MLH1   GO:0006298\n",
       "...          ...           ...     ...          ...\n",
       "1158  rs11594238  7.885882e-07   FOXP1   GO:0140110\n",
       "1159   rs2039220 -4.592979e-07    PAX5   GO:0140110\n",
       "1160   rs7073231  3.218443e-07   SIRT1   GO:0043161\n",
       "1161  rs57484645  2.383647e-07    GYS2   GO:0006112\n",
       "1162   rs8192697  5.919123e-08    GYS2   GO:0006112\n",
       "\n",
       "[1163 rows x 4 columns]"
      ]
     },
     "execution_count": 35,
     "metadata": {},
     "output_type": "execute_result"
    }
   ],
   "source": [
    "model_snps"
   ]
  },
  {
   "cell_type": "code",
   "execution_count": 36,
   "metadata": {},
   "outputs": [],
   "source": [
    "# Save final table to tab separated txt file\n",
    "model_snps.to_csv(out_dir + regressor_name + '_coefs.txt', sep='\\t', index=False)"
   ]
  },
  {
   "cell_type": "markdown",
   "metadata": {},
   "source": [
    "## For tree based methods"
   ]
  },
  {
   "cell_type": "markdown",
   "metadata": {},
   "source": [
    "### XGBoost models"
   ]
  },
  {
   "cell_type": "code",
   "execution_count": 13,
   "metadata": {},
   "outputs": [],
   "source": [
    "# Name of pickled model file\n",
    "xgb_booster_file = 'histXGBoost_regressor_bsc.pkl'\n",
    "# xgb_booster_file = 'approxXGBoost_regressor_bsc.pkl'\n",
    "\n",
    "# Extract model name string\n",
    "xgb_booster_name = xgb_booster_file.split(sep = \".\")[0]"
   ]
  },
  {
   "cell_type": "code",
   "execution_count": 14,
   "metadata": {},
   "outputs": [],
   "source": [
    "# Load the pickled model\n",
    "with open(reg_dir + xgb_booster_file, 'rb') as f:\n",
    "    xgb_booster = pickle.load(f)"
   ]
  },
  {
   "cell_type": "code",
   "execution_count": 15,
   "metadata": {},
   "outputs": [],
   "source": [
    "gain_importances = xgb_booster.get_booster().get_score(importance_type='gain')"
   ]
  },
  {
   "cell_type": "code",
   "execution_count": 9,
   "metadata": {},
   "outputs": [],
   "source": [
    "weight_importances = xgb_booster.get_booster().get_score(importance_type='weight')"
   ]
  },
  {
   "cell_type": "code",
   "execution_count": 16,
   "metadata": {},
   "outputs": [],
   "source": [
    "# Convert gain_importances dictionary to a list of lists\n",
    "# removing the intial f of the key\n",
    "gain_importances_list = [[feature_names[int(key[1:])], value] for key, value in gain_importances.items()]"
   ]
  },
  {
   "cell_type": "code",
   "execution_count": 17,
   "metadata": {},
   "outputs": [],
   "source": [
    "# Sort in descending order\n",
    "gain_importances_list = sorted(gain_importances_list, key=lambda x: x[1], reverse=True)"
   ]
  },
  {
   "cell_type": "code",
   "execution_count": 19,
   "metadata": {},
   "outputs": [
    {
     "name": "stdout",
     "output_type": "stream",
     "text": [
      "CAG coefficient is: 275.13458251953125\n"
     ]
    }
   ],
   "source": [
    "# If most important feature is CAG (will most \n",
    "# certainly be) print its coefficient\n",
    "\n",
    "if gain_importances_list[0][0] == 'CAG':\n",
    "    print('CAG coefficient is:', gain_importances_list[0][1])"
   ]
  },
  {
   "cell_type": "code",
   "execution_count": 20,
   "metadata": {},
   "outputs": [
    {
     "name": "stderr",
     "output_type": "stream",
     "text": [
      "/tmp/ipykernel_431667/1342472698.py:12: FutureWarning: The behavior of DataFrame concatenation with empty or all-NA entries is deprecated. In a future version, this will no longer exclude empty or all-NA columns when determining the result dtypes. To retain the old behavior, exclude the relevant entries before the concat operation.\n",
      "  booster_important_snps = booster_important_snps._append(row, ignore_index=True)\n"
     ]
    }
   ],
   "source": [
    "# Assemble presenting table\n",
    "booster_important_snps = pd.DataFrame(columns=['SNP','Gain','Gene','GO'])\n",
    "\n",
    "# Take top 100 snps\n",
    "for snp, gain in gain_importances_list[1:101]:\n",
    "    # Find snp in lookup table\n",
    "    match = snp_lookuptab[snp_lookuptab[\"SNP\"] == snp]\n",
    "    # Retrieve corresponding gene and GO term\n",
    "    gene, GO = match['Gene'].values[0], match['GO_term'].values[0]\n",
    "    # Create new row in pd df\n",
    "    row = {'SNP':snp, 'Gain':gain, 'Gene':gene, 'GO':GO}\n",
    "    booster_important_snps = booster_important_snps._append(row, ignore_index=True)"
   ]
  },
  {
   "cell_type": "code",
   "execution_count": 21,
   "metadata": {},
   "outputs": [],
   "source": [
    "# Save final table to tab separated txt file\n",
    "booster_important_snps.to_csv(out_dir + xgb_booster_name + '_coefs.txt', sep='\\t', index=False)"
   ]
  },
  {
   "cell_type": "markdown",
   "metadata": {},
   "source": [
    "----"
   ]
  },
  {
   "cell_type": "markdown",
   "metadata": {},
   "source": [
    "Filter gains and weights to the top 5%."
   ]
  },
  {
   "cell_type": "code",
   "execution_count": 15,
   "metadata": {},
   "outputs": [],
   "source": [
    "# Sort the dictionaries based on values\n",
    "sorted_weight_importances = dict(sorted(weight_importances.items(), key=lambda item: item[1], reverse=True))\n",
    "sorted_gain_importances = dict(sorted(gain_importances.items(), key=lambda item: item[1], reverse=True))\n",
    "\n",
    "# Calculate the number of features to retain (top 5%)\n",
    "# num_features_to_retain = int(len(weight_importances) * 0.01)\n",
    "num_features_to_retain = 100\n",
    "\n",
    "# Get the top 10% entries\n",
    "top_weight_importances = dict(list(sorted_weight_importances.items())[:num_features_to_retain])\n",
    "top_gain_importances = dict(list(sorted_gain_importances.items())[:num_features_to_retain])"
   ]
  },
  {
   "cell_type": "code",
   "execution_count": 16,
   "metadata": {},
   "outputs": [
    {
     "data": {
      "image/png": "[encoded data removed]",
      "text/plain": [
       "<Figure size 1000x600 with 1 Axes>"
      ]
     },
     "metadata": {},
     "output_type": "display_data"
    }
   ],
   "source": [
    "# Plot feature importances\n",
    "plt.figure(figsize=(10, 6))\n",
    "plt.bar(top_weight_importances.keys(), top_weight_importances.values(), color='blue', label='Weight')\n",
    "plt.bar(top_gain_importances.keys(), top_gain_importances.values(), color='red', label='Gain')\n",
    "plt.xlabel('Features')\n",
    "plt.ylabel('Importance')\n",
    "plt.title('Feature Importances')\n",
    "plt.legend()\n",
    "plt.xticks(rotation=45)\n",
    "plt.tight_layout()\n",
    "plt.show()"
   ]
  },
  {
   "cell_type": "markdown",
   "metadata": {},
   "source": [
    "## Random Forest"
   ]
  },
  {
   "cell_type": "code",
   "execution_count": 9,
   "metadata": {},
   "outputs": [],
   "source": [
    "# Name of pickled model file\n",
    "rf_file = 'randomforest_regressor_bsc.pkl'"
   ]
  },
  {
   "cell_type": "code",
   "execution_count": 10,
   "metadata": {},
   "outputs": [],
   "source": [
    "# Extract model name string\n",
    "rf_name = rf_file.split(sep = \".\")[0]\n",
    "# Load the pickled model\n",
    "with open(reg_dir + rf_file, 'rb') as f:\n",
    "    rf_reg = pickle.load(f)"
   ]
  },
  {
   "cell_type": "code",
   "execution_count": 11,
   "metadata": {},
   "outputs": [],
   "source": [
    "# Get feature importances (gini importance)\n",
    "feat_importances = rf_reg.feature_importances_"
   ]
  },
  {
   "cell_type": "code",
   "execution_count": 61,
   "metadata": {},
   "outputs": [],
   "source": [
    "# Sort ginis importance in descending order\n",
    "non_zero_indices_values = [(index, coef) for index, coef in enumerate(feat_importances) if coef != 0]\n",
    "sorted_indices_values = sorted(non_zero_indices_values, key=lambda x: x[1], reverse=True)"
   ]
  },
  {
   "cell_type": "code",
   "execution_count": null,
   "metadata": {},
   "outputs": [],
   "source": [
    "# Keep only the feature corresponding to the index and signed \n",
    "# value of the sorted coefficients\n",
    "model_ginis = []\n",
    "\n",
    "for index, coef in sorted_indices_values:\n",
    "    model_ginis.append([feature_names[index], coef])"
   ]
  },
  {
   "cell_type": "code",
   "execution_count": null,
   "metadata": {},
   "outputs": [],
   "source": [
    "# If most important feature is CAG (will most \n",
    "# probably be) print its coefficient\n",
    "\n",
    "if model_ginis[0][0] == 'CAG':\n",
    "    print('CAG coefficient is:', model_ginis[0][1])"
   ]
  },
  {
   "cell_type": "code",
   "execution_count": null,
   "metadata": {},
   "outputs": [],
   "source": [
    "# Assemble presenting table\n",
    "model_snps = pd.DataFrame(columns=['SNP','Coefficient','Gene','GO'])\n",
    "\n",
    "for snp, gini in model_ginis[1:]:\n",
    "    # Find snp in lookup table\n",
    "    match = snp_lookuptab[snp_lookuptab[\"SNP\"] == snp]\n",
    "    # Retrieve corresponding gene and GO term\n",
    "    gene, GO = match['Gene'].values[0], match['GO_term'].values[0]\n",
    "    # Create new row in pd df\n",
    "    row = {'SNP':snp, 'GiniImportance':gini, 'Gene':gene, 'GO':GO}\n",
    "    model_snps = model_snps._append(row, ignore_index=True)"
   ]
  },
  {
   "cell_type": "code",
   "execution_count": null,
   "metadata": {},
   "outputs": [],
   "source": [
    "# Save final table to tab separated txt file\n",
    "model_snps.to_csv(out_dir + regressor_name + '_coefs.txt', sep='\\t', index=False)"
   ]
  }
 ],
 "metadata": {
  "kernelspec": {
   "display_name": "enrollhd_jupyter",
   "language": "python",
   "name": "python3"
  },
  "language_info": {
   "codemirror_mode": {
    "name": "ipython",
    "version": 3
   },
   "file_extension": ".py",
   "mimetype": "text/x-python",
   "name": "python",
   "nbconvert_exporter": "python",
   "pygments_lexer": "ipython3",
   "version": "3.11.8"
  }
 },
 "nbformat": 4,
 "nbformat_minor": 2
}
