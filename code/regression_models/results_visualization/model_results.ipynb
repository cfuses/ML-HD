{
 "cells": [
  {
   "cell_type": "markdown",
   "metadata": {},
   "source": [
    "## Extracting SNPs contributing to a model"
   ]
  },
  {
   "cell_type": "code",
   "execution_count": 18,
   "metadata": {},
   "outputs": [],
   "source": [
    "import os\n",
    "import pickle\n",
    "import pandas as pd\n",
    "import xgboost as xgb\n",
    "import matplotlib.pyplot as plt"
   ]
  },
  {
   "cell_type": "code",
   "execution_count": 19,
   "metadata": {},
   "outputs": [],
   "source": [
    "os.chdir('/media/HDD_4TB_1/jordi/cfuses_gnn_enrollhd_2024/')"
   ]
  },
  {
   "cell_type": "code",
   "execution_count": 20,
   "metadata": {},
   "outputs": [],
   "source": [
    "# Data directory\n",
    "data_dir = \"data/features/\"\n",
    "\n",
    "# Path to regressors\n",
    "reg_dir = \"data/ml_results/regressors/\"\n",
    "\n",
    "# Path to output directory\n",
    "out_dir = \"data/ml_results/regressors_info/\""
   ]
  },
  {
   "cell_type": "code",
   "execution_count": 21,
   "metadata": {},
   "outputs": [],
   "source": [
    "# Extract feature matrix header\n",
    "with open(data_dir + \"subsetting/header_feature_matrix_m3_filt_0.01.txt\", \"r\") as file:\n",
    "    header = file.readline().strip().split(\"\\t\")\n",
    "        \n",
    "feature_names = header[1:]\n",
    "\n",
    "# Read SNP lookup table\n",
    "snp_lookuptab = pd.read_csv(\"data/SNPs/snps_gene_GO_m3.txt\", sep=\"\\t\")"
   ]
  },
  {
   "cell_type": "markdown",
   "metadata": {},
   "source": [
    "## For linear methods"
   ]
  },
  {
   "cell_type": "code",
   "execution_count": 33,
   "metadata": {},
   "outputs": [],
   "source": [
    "# Name of pickled model file\n",
    "regressor_file = 'elastic_net_regressor_bsc.pkl' # Elastic Net\n",
    "# regressor_file = 'lasso_regressor_bsc.pkl' # Lasso\n",
    "\n",
    "# Extract model name string\n",
    "regressor_name = regressor_file.split(sep = \".\")[0]"
   ]
  },
  {
   "cell_type": "code",
   "execution_count": 34,
   "metadata": {},
   "outputs": [],
   "source": [
    "# Load the pickled model\n",
    "with open(reg_dir + regressor_file, 'rb') as f:\n",
    "    regressor = pickle.load(f)"
   ]
  },
  {
   "cell_type": "code",
   "execution_count": 35,
   "metadata": {},
   "outputs": [
    {
     "data": {
      "text/plain": [
       "1164"
      ]
     },
     "execution_count": 35,
     "metadata": {},
     "output_type": "execute_result"
    }
   ],
   "source": [
    "# Get how many coefficients different from 0\n",
    "sum(1 for coef in regressor.coef_ if coef != 0)"
   ]
  },
  {
   "cell_type": "code",
   "execution_count": 36,
   "metadata": {},
   "outputs": [],
   "source": [
    "# Sort coefficients in descending order by their absolute value\n",
    "non_zero_indices_values = [(index, coef, abs(coef)) for index, coef in enumerate(regressor.coef_) if coef != 0]\n",
    "sorted_indices_values = sorted(non_zero_indices_values, key=lambda x: x[2], reverse=True)"
   ]
  },
  {
   "cell_type": "markdown",
   "metadata": {},
   "source": [
    "Get what snps correspond to each index"
   ]
  },
  {
   "cell_type": "code",
   "execution_count": 37,
   "metadata": {},
   "outputs": [],
   "source": [
    "# Keep only the feature corresponding to the index and signed \n",
    "# value of the sorted coefficients\n",
    "model_coefs = []\n",
    "\n",
    "for index, coef, _ in sorted_indices_values:\n",
    "    model_coefs.append([feature_names[index], coef])"
   ]
  },
  {
   "cell_type": "code",
   "execution_count": 38,
   "metadata": {},
   "outputs": [
    {
     "name": "stdout",
     "output_type": "stream",
     "text": [
      "CAG coefficient is: -3.2781513\n"
     ]
    }
   ],
   "source": [
    "# If most important feature is CAG (will most \n",
    "# certainly be) print its coefficient\n",
    "\n",
    "if model_coefs[0][0] == 'CAG':\n",
    "    print('CAG coefficient is:', model_coefs[0][1])"
   ]
  },
  {
   "cell_type": "code",
   "execution_count": 39,
   "metadata": {},
   "outputs": [
    {
     "name": "stderr",
     "output_type": "stream",
     "text": [
      "/tmp/ipykernel_449942/1903723015.py:11: FutureWarning: The behavior of DataFrame concatenation with empty or all-NA entries is deprecated. In a future version, this will no longer exclude empty or all-NA columns when determining the result dtypes. To retain the old behavior, exclude the relevant entries before the concat operation.\n",
      "  model_snps = model_snps._append(row, ignore_index=True)\n"
     ]
    }
   ],
   "source": [
    "# Assemble presenting table\n",
    "model_snps = pd.DataFrame(columns=['SNP','Coefficient','Gene','GO'])\n",
    "\n",
    "for snp, coef in model_coefs[1:]:\n",
    "    # Find snp in lookup table\n",
    "    match = snp_lookuptab[snp_lookuptab[\"SNP\"] == snp]\n",
    "    # Retrieve corresponding gene and GO term\n",
    "    gene, GO = match['Gene'].values[0], match['GO_term'].values[0]\n",
    "    # Create new row in pd df\n",
    "    row = {'SNP':snp, 'Coefficient':coef, 'Gene':gene, 'GO':GO}\n",
    "    model_snps = model_snps._append(row, ignore_index=True)"
   ]
  },
  {
   "cell_type": "code",
   "execution_count": 30,
   "metadata": {},
   "outputs": [
    {
     "data": {
      "text/html": [
       "<div>\n",
       "<style scoped>\n",
       "    .dataframe tbody tr th:only-of-type {\n",
       "        vertical-align: middle;\n",
       "    }\n",
       "\n",
       "    .dataframe tbody tr th {\n",
       "        vertical-align: top;\n",
       "    }\n",
       "\n",
       "    .dataframe thead th {\n",
       "        text-align: right;\n",
       "    }\n",
       "</style>\n",
       "<table border=\"1\" class=\"dataframe\">\n",
       "  <thead>\n",
       "    <tr style=\"text-align: right;\">\n",
       "      <th></th>\n",
       "      <th>SNP</th>\n",
       "      <th>Coefficient</th>\n",
       "      <th>Gene</th>\n",
       "      <th>GO</th>\n",
       "    </tr>\n",
       "  </thead>\n",
       "  <tbody>\n",
       "    <tr>\n",
       "      <th>0</th>\n",
       "      <td>rs17173770</td>\n",
       "      <td>3.656065e-02</td>\n",
       "      <td>SMARCD3</td>\n",
       "      <td>GO:0140110</td>\n",
       "    </tr>\n",
       "    <tr>\n",
       "      <th>1</th>\n",
       "      <td>rs61997076</td>\n",
       "      <td>3.399666e-02</td>\n",
       "      <td>FAN1</td>\n",
       "      <td>extra_genes</td>\n",
       "    </tr>\n",
       "    <tr>\n",
       "      <th>2</th>\n",
       "      <td>rs144287831</td>\n",
       "      <td>2.923338e-02</td>\n",
       "      <td>MLH1</td>\n",
       "      <td>GO:0006298</td>\n",
       "    </tr>\n",
       "    <tr>\n",
       "      <th>3</th>\n",
       "      <td>rs10885398</td>\n",
       "      <td>-2.851474e-02</td>\n",
       "      <td>TCF7L2</td>\n",
       "      <td>GO:0140110</td>\n",
       "    </tr>\n",
       "    <tr>\n",
       "      <th>4</th>\n",
       "      <td>rs8017707</td>\n",
       "      <td>-2.680090e-02</td>\n",
       "      <td>ESRRB</td>\n",
       "      <td>GO:0140110</td>\n",
       "    </tr>\n",
       "    <tr>\n",
       "      <th>...</th>\n",
       "      <td>...</td>\n",
       "      <td>...</td>\n",
       "      <td>...</td>\n",
       "      <td>...</td>\n",
       "    </tr>\n",
       "    <tr>\n",
       "      <th>861</th>\n",
       "      <td>rs2071534</td>\n",
       "      <td>-4.730222e-08</td>\n",
       "      <td>PSMB9</td>\n",
       "      <td>GO:0043161</td>\n",
       "    </tr>\n",
       "    <tr>\n",
       "      <th>862</th>\n",
       "      <td>rs10072296</td>\n",
       "      <td>3.193814e-08</td>\n",
       "      <td>JMY</td>\n",
       "      <td>GO:0140110</td>\n",
       "    </tr>\n",
       "    <tr>\n",
       "      <th>863</th>\n",
       "      <td>rs894414</td>\n",
       "      <td>1.890893e-08</td>\n",
       "      <td>SMARCD2</td>\n",
       "      <td>GO:0140110</td>\n",
       "    </tr>\n",
       "    <tr>\n",
       "      <th>864</th>\n",
       "      <td>rs2721963</td>\n",
       "      <td>1.772747e-08</td>\n",
       "      <td>TRPS1</td>\n",
       "      <td>GO:0140110</td>\n",
       "    </tr>\n",
       "    <tr>\n",
       "      <th>865</th>\n",
       "      <td>rs6930981</td>\n",
       "      <td>-7.468771e-09</td>\n",
       "      <td>PSMB9</td>\n",
       "      <td>GO:0043161</td>\n",
       "    </tr>\n",
       "  </tbody>\n",
       "</table>\n",
       "<p>866 rows × 4 columns</p>\n",
       "</div>"
      ],
      "text/plain": [
       "             SNP   Coefficient     Gene           GO\n",
       "0     rs17173770  3.656065e-02  SMARCD3   GO:0140110\n",
       "1     rs61997076  3.399666e-02     FAN1  extra_genes\n",
       "2    rs144287831  2.923338e-02     MLH1   GO:0006298\n",
       "3     rs10885398 -2.851474e-02   TCF7L2   GO:0140110\n",
       "4      rs8017707 -2.680090e-02    ESRRB   GO:0140110\n",
       "..           ...           ...      ...          ...\n",
       "861    rs2071534 -4.730222e-08    PSMB9   GO:0043161\n",
       "862   rs10072296  3.193814e-08      JMY   GO:0140110\n",
       "863     rs894414  1.890893e-08  SMARCD2   GO:0140110\n",
       "864    rs2721963  1.772747e-08    TRPS1   GO:0140110\n",
       "865    rs6930981 -7.468771e-09    PSMB9   GO:0043161\n",
       "\n",
       "[866 rows x 4 columns]"
      ]
     },
     "execution_count": 30,
     "metadata": {},
     "output_type": "execute_result"
    }
   ],
   "source": [
    "model_snps"
   ]
  },
  {
   "cell_type": "code",
   "execution_count": 40,
   "metadata": {},
   "outputs": [],
   "source": [
    "# Save final table to tab separated txt file\n",
    "model_snps.to_csv(out_dir + regressor_name + '_coefs.txt', sep='\\t', index=False)"
   ]
  },
  {
   "cell_type": "markdown",
   "metadata": {},
   "source": [
    "## For tree based methods"
   ]
  },
  {
   "cell_type": "markdown",
   "metadata": {},
   "source": [
    "### XGBoost models"
   ]
  },
  {
   "cell_type": "code",
   "execution_count": 51,
   "metadata": {},
   "outputs": [],
   "source": [
    "# Name of pickled model file\n",
    "# xgb_booster_file = 'histXGBoost_regressor_bsc.pkl'\n",
    "xgb_booster_file = 'approxXGBoost_regressor_bsc.pkl'\n",
    "\n",
    "# Extract model name string\n",
    "xgb_booster_name = xgb_booster_file.split(sep = \".\")[0]"
   ]
  },
  {
   "cell_type": "code",
   "execution_count": 52,
   "metadata": {},
   "outputs": [],
   "source": [
    "# Load the pickled model\n",
    "with open(reg_dir + xgb_booster_file, 'rb') as f:\n",
    "    xgb_booster = pickle.load(f)"
   ]
  },
  {
   "cell_type": "code",
   "execution_count": 53,
   "metadata": {},
   "outputs": [],
   "source": [
    "gain_importances = xgb_booster.get_booster().get_score(importance_type='gain')"
   ]
  },
  {
   "cell_type": "code",
   "execution_count": 54,
   "metadata": {},
   "outputs": [],
   "source": [
    "weight_importances = xgb_booster.get_booster().get_score(importance_type='weight')"
   ]
  },
  {
   "cell_type": "code",
   "execution_count": 55,
   "metadata": {},
   "outputs": [],
   "source": [
    "# Convert gain_importances dictionary to a list of lists\n",
    "# removing the intial f of the key\n",
    "gain_importances_list = [[feature_names[int(key[1:])], value] for key, value in gain_importances.items()]"
   ]
  },
  {
   "cell_type": "code",
   "execution_count": 56,
   "metadata": {},
   "outputs": [],
   "source": [
    "# Sort in descending order\n",
    "gain_importances_list = sorted(gain_importances_list, key=lambda x: x[1], reverse=True)"
   ]
  },
  {
   "cell_type": "code",
   "execution_count": 57,
   "metadata": {},
   "outputs": [
    {
     "name": "stdout",
     "output_type": "stream",
     "text": [
      "CAG coefficient is: 209.2954559326172\n"
     ]
    }
   ],
   "source": [
    "# If most important feature is CAG (will most \n",
    "# certainly be) print its coefficient\n",
    "\n",
    "if gain_importances_list[0][0] == 'CAG':\n",
    "    print('CAG coefficient is:', gain_importances_list[0][1])"
   ]
  },
  {
   "cell_type": "code",
   "execution_count": 58,
   "metadata": {},
   "outputs": [
    {
     "name": "stderr",
     "output_type": "stream",
     "text": [
      "/tmp/ipykernel_449942/1342472698.py:12: FutureWarning: The behavior of DataFrame concatenation with empty or all-NA entries is deprecated. In a future version, this will no longer exclude empty or all-NA columns when determining the result dtypes. To retain the old behavior, exclude the relevant entries before the concat operation.\n",
      "  booster_important_snps = booster_important_snps._append(row, ignore_index=True)\n"
     ]
    }
   ],
   "source": [
    "# Assemble presenting table\n",
    "booster_important_snps = pd.DataFrame(columns=['SNP','Gain','Gene','GO'])\n",
    "\n",
    "# Take top 100 snps\n",
    "for snp, gain in gain_importances_list[1:101]:\n",
    "    # Find snp in lookup table\n",
    "    match = snp_lookuptab[snp_lookuptab[\"SNP\"] == snp]\n",
    "    # Retrieve corresponding gene and GO term\n",
    "    gene, GO = match['Gene'].values[0], match['GO_term'].values[0]\n",
    "    # Create new row in pd df\n",
    "    row = {'SNP':snp, 'Gain':gain, 'Gene':gene, 'GO':GO}\n",
    "    booster_important_snps = booster_important_snps._append(row, ignore_index=True)"
   ]
  },
  {
   "cell_type": "code",
   "execution_count": 59,
   "metadata": {},
   "outputs": [],
   "source": [
    "# Save final table to tab separated txt file\n",
    "booster_important_snps.to_csv(out_dir + xgb_booster_name + '_coefs.txt', sep='\\t', index=False)"
   ]
  },
  {
   "cell_type": "markdown",
   "metadata": {},
   "source": [
    "----"
   ]
  },
  {
   "cell_type": "markdown",
   "metadata": {},
   "source": [
    "## Random Forest"
   ]
  },
  {
   "cell_type": "code",
   "execution_count": 60,
   "metadata": {},
   "outputs": [],
   "source": [
    "# Name of pickled model file\n",
    "rf_file = 'randomforest_regressor.pkl'"
   ]
  },
  {
   "cell_type": "code",
   "execution_count": 61,
   "metadata": {},
   "outputs": [],
   "source": [
    "# Extract model name string\n",
    "rf_name = rf_file.split(sep = \".\")[0]\n",
    "# Load the pickled model\n",
    "with open(reg_dir + rf_file, 'rb') as f:\n",
    "    rf_reg = pickle.load(f)"
   ]
  },
  {
   "cell_type": "code",
   "execution_count": 63,
   "metadata": {},
   "outputs": [],
   "source": [
    "# Get feature importances (gini importance)\n",
    "feat_importances = rf_reg.feature_importances_"
   ]
  },
  {
   "cell_type": "code",
   "execution_count": 65,
   "metadata": {},
   "outputs": [],
   "source": [
    "# Sort ginis importance in descending order\n",
    "non_zero_indices_values = [(index, coef) for index, coef in enumerate(feat_importances) if coef != 0]\n",
    "sorted_indices_values = sorted(non_zero_indices_values, key=lambda x: x[1], reverse=True)"
   ]
  },
  {
   "cell_type": "code",
   "execution_count": 66,
   "metadata": {},
   "outputs": [],
   "source": [
    "# Keep only the feature corresponding to the index and signed \n",
    "# value of the sorted coefficients\n",
    "model_ginis = []\n",
    "\n",
    "for index, coef in sorted_indices_values:\n",
    "    model_ginis.append([feature_names[index], coef])"
   ]
  },
  {
   "cell_type": "code",
   "execution_count": 67,
   "metadata": {},
   "outputs": [
    {
     "name": "stdout",
     "output_type": "stream",
     "text": [
      "CAG coefficient is: 0.8760109982060723\n"
     ]
    }
   ],
   "source": [
    "# If most important feature is CAG (will most \n",
    "# probably be) print its coefficient\n",
    "\n",
    "if model_ginis[0][0] == 'CAG':\n",
    "    print('CAG coefficient is:', model_ginis[0][1])"
   ]
  },
  {
   "cell_type": "code",
   "execution_count": 74,
   "metadata": {},
   "outputs": [
    {
     "name": "stderr",
     "output_type": "stream",
     "text": [
      "/tmp/ipykernel_449942/3332031514.py:11: FutureWarning: The behavior of DataFrame concatenation with empty or all-NA entries is deprecated. In a future version, this will no longer exclude empty or all-NA columns when determining the result dtypes. To retain the old behavior, exclude the relevant entries before the concat operation.\n",
      "  model_snps = model_snps._append(row, ignore_index=True)\n"
     ]
    }
   ],
   "source": [
    "# Assemble presenting table\n",
    "model_snps = pd.DataFrame(columns=['SNP','Gini_Importance','Gene','GO'])\n",
    "\n",
    "for snp, gini in model_ginis[1:]:\n",
    "    # Find snp in lookup table\n",
    "    match = snp_lookuptab[snp_lookuptab[\"SNP\"] == snp]\n",
    "    # Retrieve corresponding gene and GO term\n",
    "    gene, GO = match['Gene'].values[0], match['GO_term'].values[0]\n",
    "    # Create new row in pd df\n",
    "    row = {'SNP':snp, 'Gini_Importance':gini, 'Gene':gene, 'GO':GO}\n",
    "    model_snps = model_snps._append(row, ignore_index=True)"
   ]
  },
  {
   "cell_type": "code",
   "execution_count": 76,
   "metadata": {},
   "outputs": [],
   "source": [
    "# Save final table to tab separated txt file\n",
    "model_snps.to_csv(out_dir + rf_name + '_coefs.txt', sep='\\t', index=False)"
   ]
  },
  {
   "cell_type": "code",
   "execution_count": 75,
   "metadata": {},
   "outputs": [
    {
     "data": {
      "text/html": [
       "<div>\n",
       "<style scoped>\n",
       "    .dataframe tbody tr th:only-of-type {\n",
       "        vertical-align: middle;\n",
       "    }\n",
       "\n",
       "    .dataframe tbody tr th {\n",
       "        vertical-align: top;\n",
       "    }\n",
       "\n",
       "    .dataframe thead th {\n",
       "        text-align: right;\n",
       "    }\n",
       "</style>\n",
       "<table border=\"1\" class=\"dataframe\">\n",
       "  <thead>\n",
       "    <tr style=\"text-align: right;\">\n",
       "      <th></th>\n",
       "      <th>SNP</th>\n",
       "      <th>Gini_Importance</th>\n",
       "      <th>Gene</th>\n",
       "      <th>GO</th>\n",
       "    </tr>\n",
       "  </thead>\n",
       "  <tbody>\n",
       "    <tr>\n",
       "      <th>0</th>\n",
       "      <td>rs77752857</td>\n",
       "      <td>0.001354</td>\n",
       "      <td>NEK6</td>\n",
       "      <td>GO:0031625</td>\n",
       "    </tr>\n",
       "    <tr>\n",
       "      <th>1</th>\n",
       "      <td>rs1043742</td>\n",
       "      <td>0.001183</td>\n",
       "      <td>CUL2</td>\n",
       "      <td>GO:0043161</td>\n",
       "    </tr>\n",
       "    <tr>\n",
       "      <th>2</th>\n",
       "      <td>rs11201880</td>\n",
       "      <td>0.000847</td>\n",
       "      <td>GRID1</td>\n",
       "      <td>GO:0035249</td>\n",
       "    </tr>\n",
       "    <tr>\n",
       "      <th>3</th>\n",
       "      <td>rs118089305</td>\n",
       "      <td>0.000672</td>\n",
       "      <td>FAN1</td>\n",
       "      <td>extra_genes</td>\n",
       "    </tr>\n",
       "    <tr>\n",
       "      <th>4</th>\n",
       "      <td>rs17767868</td>\n",
       "      <td>0.000665</td>\n",
       "      <td>ZFAT</td>\n",
       "      <td>GO:0140110</td>\n",
       "    </tr>\n",
       "    <tr>\n",
       "      <th>...</th>\n",
       "      <td>...</td>\n",
       "      <td>...</td>\n",
       "      <td>...</td>\n",
       "      <td>...</td>\n",
       "    </tr>\n",
       "    <tr>\n",
       "      <th>879</th>\n",
       "      <td>rs72885925</td>\n",
       "      <td>0.000051</td>\n",
       "      <td>TRIM62</td>\n",
       "      <td>GO:0140110</td>\n",
       "    </tr>\n",
       "    <tr>\n",
       "      <th>880</th>\n",
       "      <td>rs4322226</td>\n",
       "      <td>0.000051</td>\n",
       "      <td>PIGM</td>\n",
       "      <td>GO:0042157</td>\n",
       "    </tr>\n",
       "    <tr>\n",
       "      <th>881</th>\n",
       "      <td>rs10246722</td>\n",
       "      <td>0.000050</td>\n",
       "      <td>HDAC9</td>\n",
       "      <td>GO:0140110</td>\n",
       "    </tr>\n",
       "    <tr>\n",
       "      <th>882</th>\n",
       "      <td>rs4802994</td>\n",
       "      <td>0.000050</td>\n",
       "      <td>ZNF600</td>\n",
       "      <td>GO:0140110</td>\n",
       "    </tr>\n",
       "    <tr>\n",
       "      <th>883</th>\n",
       "      <td>rs995906</td>\n",
       "      <td>0.000049</td>\n",
       "      <td>GRID2</td>\n",
       "      <td>GO:0035249</td>\n",
       "    </tr>\n",
       "  </tbody>\n",
       "</table>\n",
       "<p>884 rows × 4 columns</p>\n",
       "</div>"
      ],
      "text/plain": [
       "             SNP  Gini_Importance    Gene           GO\n",
       "0     rs77752857         0.001354    NEK6   GO:0031625\n",
       "1      rs1043742         0.001183    CUL2   GO:0043161\n",
       "2     rs11201880         0.000847   GRID1   GO:0035249\n",
       "3    rs118089305         0.000672    FAN1  extra_genes\n",
       "4     rs17767868         0.000665    ZFAT   GO:0140110\n",
       "..           ...              ...     ...          ...\n",
       "879   rs72885925         0.000051  TRIM62   GO:0140110\n",
       "880    rs4322226         0.000051    PIGM   GO:0042157\n",
       "881   rs10246722         0.000050   HDAC9   GO:0140110\n",
       "882    rs4802994         0.000050  ZNF600   GO:0140110\n",
       "883     rs995906         0.000049   GRID2   GO:0035249\n",
       "\n",
       "[884 rows x 4 columns]"
      ]
     },
     "execution_count": 75,
     "metadata": {},
     "output_type": "execute_result"
    }
   ],
   "source": [
    "model_snps"
   ]
  }
 ],
 "metadata": {
  "kernelspec": {
   "display_name": "enrollhd_jupyter",
   "language": "python",
   "name": "python3"
  },
  "language_info": {
   "codemirror_mode": {
    "name": "ipython",
    "version": 3
   },
   "file_extension": ".py",
   "mimetype": "text/x-python",
   "name": "python",
   "nbconvert_exporter": "python",
   "pygments_lexer": "ipython3",
   "version": "3.11.6"
  }
 },
 "nbformat": 4,
 "nbformat_minor": 2
}
