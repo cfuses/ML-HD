{
 "cells": [
  {
   "cell_type": "markdown",
   "metadata": {},
   "source": [
    "## Random subsets of samples and SNPs"
   ]
  },
  {
   "cell_type": "code",
   "execution_count": 1,
   "metadata": {},
   "outputs": [],
   "source": [
    "import pandas as pd\n",
    "import random\n",
    "import os"
   ]
  },
  {
   "cell_type": "code",
   "execution_count": 2,
   "metadata": {},
   "outputs": [],
   "source": [
    "# Change working directory\n",
    "os.chdir('/media/HDD_4TB_1/jordi/cfuses_gnn_enrollhd_2024/')\n",
    "\n",
    "# Input and output directories\n",
    "data_dir = \"data/features/subsetting/\""
   ]
  },
  {
   "cell_type": "code",
   "execution_count": 3,
   "metadata": {},
   "outputs": [],
   "source": [
    "# Load samples\n",
    "samples_col = pd.read_csv(data_dir + \"id_samples.txt\")\n",
    "\n",
    "# Load snps IDs order file\n",
    "with open(data_dir + 'refIDs_row.txt', 'r') as file:\n",
    "    line = file.readline().strip()\n",
    "    snps_vector = line.split('\\t')"
   ]
  },
  {
   "cell_type": "code",
   "execution_count": 4,
   "metadata": {},
   "outputs": [],
   "source": [
    "# Sample size\n",
    "N = 900\n",
    "\n",
    "# SNPs included\n",
    "j = 70000"
   ]
  },
  {
   "cell_type": "code",
   "execution_count": 30,
   "metadata": {},
   "outputs": [],
   "source": [
    "# Get random samples\n",
    "random_samples = random.sample(samples_col['FID_IID'].tolist(), k=N)\n",
    "\n",
    "# Sort the list in the original order\n",
    "random_samples = sorted(random_samples, key=lambda x: samples_col['FID_IID'].tolist().index(x))\n",
    "\n",
    "# Construc the new samples column\n",
    "random_samples_col = ['FID_IID'] + random_samples"
   ]
  },
  {
   "cell_type": "code",
   "execution_count": 31,
   "metadata": {},
   "outputs": [],
   "source": [
    "# Save random samples column\n",
    "with open(data_dir + 'random_samples_pc10.txt', 'w') as file:\n",
    "    # Write each element of the list to a new line in the file\n",
    "    for item in random_samples_col:\n",
    "        file.write(item + '\\n')"
   ]
  },
  {
   "cell_type": "code",
   "execution_count": 6,
   "metadata": {},
   "outputs": [
    {
     "name": "stdout",
     "output_type": "stream",
     "text": [
      "HTT : 537\n",
      "MLH1 : 212\n",
      "MLH3 : 97\n",
      "GRIK2 : 2618\n",
      "GRIN2A : 2216\n",
      "GRIN2B : 1909\n",
      "UCHL1 : 54\n",
      "APOE : 7\n",
      "ASK1 : 0\n",
      "MAP3K5 : 661\n",
      "PPARGC1A : 593\n"
     ]
    }
   ],
   "source": [
    "# Get snps described in literature as HD modifiers\n",
    "HDmodifiers = pd.read_csv('data/genes/HD_modifiers.txt', header=None)\n",
    "\n",
    "# Load SNP lookup table\n",
    "lookuptab = pd.read_csv('data/biomart/revised_filtered_snp_gene_lookup_tab.txt', sep='\\t')\n",
    "\n",
    "# Empty list to store constant snps\n",
    "HDmodifiers_snps = []\n",
    "HDmodifiers_snps_idxs = []\n",
    "\n",
    "# Find SNPs corresponding to HD modifiers\n",
    "for gene in HDmodifiers[0]:\n",
    "    mod_snps = lookuptab[lookuptab['gene']==gene]\n",
    "    \n",
    "    # Variable to count how many snps from this gene are found in feature matrix\n",
    "    snps_gene_count = 0\n",
    "\n",
    "    # Get indexes of HD modifiers SNPs\n",
    "    for snp in mod_snps['refsnp_id']:\n",
    "\n",
    "        # If this snp is in our data\n",
    "        if snp in snps_vector:\n",
    "\n",
    "            # Append index of snp in snp_vector (header of feature matrix)\n",
    "            HDmodifiers_snps_idxs.append(snps_vector.index(snp))\n",
    "\n",
    "            # Append snp name\n",
    "            HDmodifiers_snps.append(snp)\n",
    "\n",
    "            # Increase snp counting variable\n",
    "            snps_gene_count += 1\n",
    "\n",
    "        else:\n",
    "            continue\n",
    "    \n",
    "    # Print what gene was included and how many snps\n",
    "    print(gene, ':', snps_gene_count)"
   ]
  },
  {
   "cell_type": "code",
   "execution_count": 9,
   "metadata": {},
   "outputs": [],
   "source": [
    "# Join list elements with tabs\n",
    "HDmodifiers_snps_string = '\\t'.join(map(str,HDmodifiers_snps))\n",
    "\n",
    "# Save modifiers indexes\n",
    "with open(data_dir + 'snps_modifiers.txt', 'w') as file:\n",
    "    file.write(HDmodifiers_snps_string)"
   ]
  },
  {
   "cell_type": "code",
   "execution_count": 8,
   "metadata": {},
   "outputs": [],
   "source": [
    "# snps indices\n",
    "snps_vector_idxs = [i for i in range(len(snps_vector))]\n",
    "\n",
    "# Get random snps indices\n",
    "random_snps_idxs = random.sample([x for x in snps_vector_idxs if x not in HDmodifiers_snps_idxs], k=(j-len(HDmodifiers_snps_idxs)))\n",
    "\n",
    "# Paste HD modifiers indices and random indices\n",
    "random_snps_idxs = HDmodifiers_snps_idxs + random_snps_idxs\n",
    "\n",
    "# Order snps indices\n",
    "random_snps_idxs.sort()\n",
    "\n",
    "# Save names of selected snps\n",
    "#random_snps = [snps_vector[i] for i in random_snps_idxs]\n",
    "\n",
    "# Add 4 considering that the subset is done on the big matrix where we start \n",
    "# from index 1 (here we start from 0), and the first 3 cols aren't snps.\n",
    "random_snps_idxs = [x + 4 for x in random_snps_idxs]\n",
    "\n",
    "# Add first three columns\n",
    "random_feature_matrix_columns_idxs = [1,2,3] + random_snps_idxs"
   ]
  },
  {
   "cell_type": "code",
   "execution_count": 9,
   "metadata": {},
   "outputs": [],
   "source": [
    "# Join list elements with tabs\n",
    "random_feature_matrix_columns_idxs_string = '\\t'.join(map(str,random_feature_matrix_columns_idxs))\n",
    "\n",
    "# Save \n",
    "with open(data_dir + 'snps_idxs_pc10.txt', 'w') as file:\n",
    "    file.write(random_feature_matrix_columns_idxs_string)"
   ]
  }
 ],
 "metadata": {
  "kernelspec": {
   "display_name": "enrollhd_jupyter",
   "language": "python",
   "name": "python3"
  },
  "language_info": {
   "codemirror_mode": {
    "name": "ipython",
    "version": 3
   },
   "file_extension": ".py",
   "mimetype": "text/x-python",
   "name": "python",
   "nbconvert_exporter": "python",
   "pygments_lexer": "ipython3",
   "version": "3.11.8"
  }
 },
 "nbformat": 4,
 "nbformat_minor": 2
}
